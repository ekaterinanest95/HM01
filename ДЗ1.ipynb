{
 "cells": [
  {
   "cell_type": "code",
   "execution_count": 21,
   "id": "33c0c7ae",
   "metadata": {},
   "outputs": [
    {
     "data": {
      "text/plain": [
       "'Количество фруктов:25'"
      ]
     },
     "execution_count": 21,
     "metadata": {},
     "output_type": "execute_result"
    }
   ],
   "source": [
    "## 2\n",
    "\n",
    "def calc(fruits):\n",
    "    sum = 0\n",
    "    for i in fruits.values():\n",
    "        sum += i  \n",
    "    return(f\"Количество фруктов:{sum}\")\n",
    "\n",
    "fruits = {'яблоки': 8, 'бананы': 10, 'сливы': 7}\n",
    "calc(fruits)\n",
    "    \n"
   ]
  },
  {
   "cell_type": "code",
   "execution_count": 24,
   "id": "3755054d",
   "metadata": {},
   "outputs": [
    {
     "name": "stdout",
     "output_type": "stream",
     "text": [
      "[100, 125, 345, 655, 0, 200]\n",
      "1425\n"
     ]
    }
   ],
   "source": [
    "## 3\n",
    "\n",
    "expenses = [100, 125, -90, 345, 655, -1, 0, 200]\n",
    "\n",
    "expenses = [i for i in expenses if i >= 0]\n",
    "print(expenses)\n",
    "\n",
    "print(sum(expenses))\n",
    "\n",
    "\n"
   ]
  },
  {
   "cell_type": "code",
   "execution_count": null,
   "id": "d968a645",
   "metadata": {},
   "outputs": [],
   "source": [
    "## 4\n",
    "### 1\n",
    "from operator import itemgetter\n",
    "\n",
    "dates = ['2021-09-14', '2021-12-15', '2021-09-08', '2021-12-05', '2021-10-09', '2021-09-30', '2021-12-22', '2021-11-29', '2021-12-24', '2021-11-26', '2021-10-27', '2021-12-18', '2021-11-09', '2021-11-23', '2021-09-27', '2021-10-02', '2021-12-27', '2021-09-20', '2021-12-13', '2021-11-01', '2021-11-09', '2021-12-06', '2021-12-08', '2021-10-09', '2021-10-31', '2021-09-30', '2021-11-09', '2021-12-13', '2021-10-26', '2021-12-09']\n",
    "purchases = [1270, 8413, 9028, 3703, 5739, 4095, 295, 4944, 5723, 3701, 4471, 651, 7037, 4274, 6275, 4988, 6930, 2971, 6592, 2004, 2822, 519, 3406, 2732, 5015, 2008, 316, 6333, 5700, 2887]\n",
    "\n",
    "result = {dates[i]: purchases[i] for i in range(len(dates))}\n",
    "print(result)\n",
    "\n",
    "result1 = [purchases[i] for i in range(len(dates)) if '-11-' in dates[i]]\n",
    "print(result1)\n",
    "print(sum(result1))\n",
    "\n"
   ]
  },
  {
   "cell_type": "code",
   "execution_count": 24,
   "id": "0badfeb5",
   "metadata": {},
   "outputs": [
    {
     "data": {
      "text/plain": [
       "{'09': 25647, '12': 45452, '10': 28645, '11': 25098}"
      ]
     },
     "execution_count": 24,
     "metadata": {},
     "output_type": "execute_result"
    }
   ],
   "source": [
    "## 4\n",
    "### 2\n",
    "\n",
    "dates = ['2021-09-14', '2021-12-15', '2021-09-08', '2021-12-05', '2021-10-09', '2021-09-30', '2021-12-22', '2021-11-29', '2021-12-24', '2021-11-26', '2021-10-27', '2021-12-18', '2021-11-09', '2021-11-23', '2021-09-27', '2021-10-02', '2021-12-27', '2021-09-20', '2021-12-13', '2021-11-01', '2021-11-09', '2021-12-06', '2021-12-08', '2021-10-09', '2021-10-31', '2021-09-30', '2021-11-09', '2021-12-13', '2021-10-26', '2021-12-09']\n",
    "purchases = [1270, 8413, 9028, 3703, 5739, 4095, 295, 4944, 5723, 3701, 4471, 651, 7037, 4274, 6275, 4988, 6930, 2971, 6592, 2004, 2822, 519, 3406, 2732, 5015, 2008, 316, 6333, 5700, 2887]\n",
    "\n",
    "def revenue(dates: list, purchases: list) -> dict:\n",
    "    rev = {}\n",
    "    for d, p in zip(dates, purchases):\n",
    "        if d[5:7] in rev.keys():\n",
    "            rev[d[5:7]] = rev[d[5:7]] + p\n",
    "        else:\n",
    "            rev[d[5:7]] = p\n",
    "    return rev\n",
    " \n",
    "revenue(dates, purchases)"
   ]
  },
  {
   "cell_type": "code",
   "execution_count": null,
   "id": "57cad9fc",
   "metadata": {},
   "outputs": [],
   "source": []
  }
 ],
 "metadata": {
  "kernelspec": {
   "display_name": "Python 3 (ipykernel)",
   "language": "python",
   "name": "python3"
  },
  "language_info": {
   "codemirror_mode": {
    "name": "ipython",
    "version": 3
   },
   "file_extension": ".py",
   "mimetype": "text/x-python",
   "name": "python",
   "nbconvert_exporter": "python",
   "pygments_lexer": "ipython3",
   "version": "3.9.13"
  }
 },
 "nbformat": 4,
 "nbformat_minor": 5
}
